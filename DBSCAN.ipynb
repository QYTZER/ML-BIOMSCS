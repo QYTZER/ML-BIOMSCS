{
 "cells": [
  {
   "cell_type": "code",
   "execution_count": 156,
   "id": "8e7a0aab",
   "metadata": {},
   "outputs": [
    {
     "name": "stdout",
     "output_type": "stream",
     "text": [
      "   sepal.length  sepal.width  petal.length  petal.width variety\n",
      "0           5.1          3.5           1.4          0.2  Setosa\n",
      "1           4.9          3.0           1.4          0.2  Setosa\n",
      "2           4.7          3.2           1.3          0.2  Setosa\n",
      "3           4.6          3.1           1.5          0.2  Setosa\n",
      "4           5.0          3.6           1.4          0.2  Setosa\n",
      "       sepal.length  sepal.width  petal.length  petal.width\n",
      "count    150.000000   150.000000    150.000000   150.000000\n",
      "mean       5.843333     3.057333      3.758000     1.199333\n",
      "std        0.828066     0.435866      1.765298     0.762238\n",
      "min        4.300000     2.000000      1.000000     0.100000\n",
      "25%        5.100000     2.800000      1.600000     0.300000\n",
      "50%        5.800000     3.000000      4.350000     1.300000\n",
      "75%        6.400000     3.300000      5.100000     1.800000\n",
      "max        7.900000     4.400000      6.900000     2.500000\n"
     ]
    }
   ],
   "source": [
    "import pandas as pd\n",
    "from sklearn import metrics\n",
    "from sklearn.cluster import DBSCAN\n",
    "import matplotlib.pyplot as plt\n",
    "# reading the classic iris dataset into a df\n",
    "iris_df = pd.read_csv(\"https://gist.githubusercontent.com/netj/8836201/raw/6f9306ad21398ea43cba4f7d537619d0e07d5ae3/iris.csv\")\n",
    "#mall_df = pd.read_csv('https://raw.githubusercontent.com/tirthajyoti/Machine-Learning-with-Python/master/Datasets/Mall_Customers.csv')\n",
    "print(iris_df.head())\n",
    "print(iris_df.describe())\n",
    "#X=iris_df.drop([\"variety\",\"sepal.width\",\"sepal.length\"],axis=1).values\n",
    "X=iris_df.drop([\"variety\"],axis=1).values\n"
   ]
  },
  {
   "cell_type": "code",
   "execution_count": 160,
   "id": "436a3a68",
   "metadata": {},
   "outputs": [
    {
     "name": "stdout",
     "output_type": "stream",
     "text": [
      "[ 0  0  0  0  0  0  0  0  0  0  0  0  0  0  0  0  0  0  0  0  0  0  0  0\n",
      "  0  0  0  0  0  0  0  0  0  0  0  0  0  0  0  0  0 -1  0  0  0  0  0  0\n",
      "  0  0  1  1  1  1  1  1  1 -1  1  1 -1  1  1  1  1  1  1  1 -1  1  1  1\n",
      "  1  1  1  1  1  1  1  1  1  1  1  1  1  1  1 -1  1  1  1  1  1 -1  1  1\n",
      "  1  1 -1  1  1  1  1  1  1 -1 -1  1 -1 -1  1  1  1  1  1  1  1 -1 -1  1\n",
      "  1  1 -1  1  1  1  1  1  1  1  1 -1  1  1 -1 -1  1  1  1  1  1  1  1  1\n",
      "  1  1  1  1  1  1]\n",
      "Le nombre de clusters estimé est: 2\n",
      "Le nombre de points aberants est: 17\n",
      "Silhouette Coefficient for the Iris Dataset Clusters: 0.49\n"
     ]
    }
   ],
   "source": [
    "\n",
    "#print(X)\n",
    "iris_dbscan = DBSCAN(eps=0.5,min_samples=5)\n",
    "iris_dbscan.fit(X)\n",
    "labels = iris_dbscan.labels_\n",
    "\n",
    "#label=-1 signifie que ce point est considéré comme aberrant. Le reste des valeurs representent le numéro du clusters auquels ils appartiennent(qui commence de 0)\n",
    "print(labels)\n",
    "# Creating a numpy array with all values set to false by default\n",
    "# on crée un tableau de la taille \"labels\" avec toutes les valeurs false\n",
    "core_samples_mask = np.zeros_like(labels, dtype=bool)\n",
    "# on modifie le tableau de maniere à ce que tous les points different de -1 soient true\n",
    "core_samples_mask[iris_dbscan.core_sample_indices_] = True\n",
    "# on calcul le nombre de clusters en ignorant les points aberrants (-1)\n",
    "n_clusters_ = len(set(labels)) - (1 if -1 in labels else 0)\n",
    "n_noise_ = list(labels).count(-1)\n",
    "print(\"Le nombre de clusters estimé est: %d\" % n_clusters_)\n",
    "print(\"Le nombre de points aberants est: %d\" % n_noise_)\n",
    "# on calcule le coefficient de silhouette est utilisé pour calculer la qualité d'une technique de clustering. Sa valeur est comprise entre -1 et 1\n",
    "s = metrics.silhouette_score(X, iris_dbscan.labels_)\n",
    "print(f\"Silhouette Coefficient for the Iris Dataset Clusters: {s:.2f}\")"
   ]
  },
  {
   "cell_type": "code",
   "execution_count": 161,
   "id": "99fbe082",
   "metadata": {},
   "outputs": [
    {
     "data": {
      "image/png": "[encoded data removed]",
      "text/plain": [
       "<Figure size 432x288 with 1 Axes>"
      ]
     },
     "metadata": {
      "needs_background": "light"
     },
     "output_type": "display_data"
    }
   ],
   "source": [
    "unique_labels = set(labels)\n",
    "colors = plt.cm.Spectral(np.linspace(0, 1, len(unique_labels)))\n",
    "for k, col in zip(unique_labels, colors):\n",
    "    if k == -1:\n",
    "        # Black used for noise\n",
    "        col = \"k\"\n",
    "    \n",
    "    class_member_mask = (labels == k)\n",
    "    xy = X[class_member_mask & core_samples_mask]\n",
    "    plt.plot(xy[:, 0], xy[:, 1], \"o\", markerfacecolor=col,\n",
    "    markeredgecolor=\"k\", markersize=10)\n",
    "    xy = X[class_member_mask & ~core_samples_mask]\n",
    "    plt.plot(xy[:, 0], xy[:, 1], \"o\", markerfacecolor=col,\n",
    "    markeredgecolor=\"k\", markersize=5)\n",
    "plt.title(\"Estimated number of clusters: %d\" % n_clusters_)\n",
    "plt.show()"
   ]
  },
  {
   "cell_type": "code",
   "execution_count": 163,
   "id": "e0da251d",
   "metadata": {},
   "outputs": [
    {
     "name": "stdout",
     "output_type": "stream",
     "text": [
      "[0.         0.         0.1        0.1        0.1        0.1\n",
      " 0.1        0.1        0.1        0.1        0.1        0.1\n",
      " 0.14142136 0.14142136 0.14142136 0.14142136 0.14142136 0.14142136\n",
      " 0.14142136 0.14142136 0.14142136 0.14142136 0.14142136 0.14142136\n",
      " 0.14142136 0.14142136 0.14142136 0.14142136 0.14142136 0.14142136\n",
      " 0.14142136 0.14142136 0.14142136 0.14142136 0.14142136 0.14142136\n",
      " 0.14142136 0.14142136 0.14142136 0.14142136 0.14142136 0.14142136\n",
      " 0.14142136 0.14142136 0.14142136 0.14142136 0.14142136 0.14142136\n",
      " 0.17320508 0.17320508 0.17320508 0.17320508 0.17320508 0.17320508\n",
      " 0.17320508 0.17320508 0.2        0.2        0.2        0.2\n",
      " 0.2        0.2        0.2        0.2        0.2        0.2\n",
      " 0.2236068  0.2236068  0.2236068  0.2236068  0.2236068  0.2236068\n",
      " 0.2236068  0.2236068  0.2236068  0.2236068  0.24494897 0.24494897\n",
      " 0.24494897 0.24494897 0.24494897 0.24494897 0.24494897 0.24494897\n",
      " 0.24494897 0.24494897 0.24494897 0.24494897 0.26457513 0.26457513\n",
      " 0.26457513 0.26457513 0.26457513 0.26457513 0.26457513 0.26457513\n",
      " 0.26457513 0.26457513 0.26457513 0.26457513 0.28284271 0.28284271\n",
      " 0.28284271 0.28284271 0.3        0.3        0.3        0.3\n",
      " 0.3        0.3        0.3        0.31622777 0.31622777 0.31622777\n",
      " 0.33166248 0.33166248 0.33166248 0.33166248 0.33166248 0.34641016\n",
      " 0.34641016 0.34641016 0.34641016 0.34641016 0.34641016 0.34641016\n",
      " 0.36055513 0.36055513 0.36055513 0.36055513 0.37416574 0.38729833\n",
      " 0.38729833 0.38729833 0.41231056 0.41231056 0.41231056 0.41231056\n",
      " 0.42426407 0.42426407 0.43588989 0.45825757 0.48989795 0.48989795\n",
      " 0.53851648 0.53851648 0.55677644 0.6244998  0.63245553 0.73484692]\n"
     ]
    },
    {
     "data": {
      "image/png": "[encoded data removed]",
      "text/plain": [
       "<Figure size 432x288 with 1 Axes>"
      ]
     },
     "metadata": {
      "needs_background": "light"
     },
     "output_type": "display_data"
    }
   ],
   "source": [
    "#L'algorithme de clustering DBSCAN est sensible à la valeur eps que nous choisissons.\n",
    "#Voici une technique couramment utilisée appelée « méthode knee ». L'objectif est de trouver la moyenne des distances de chaque point à ses K voisins les plus proches et de sélectionner la distance à laquelle la courbure maximale ou un changement brusque se produit. La valeur de K est définie pour être égale à minPoints.\n",
    "from sklearn.neighbors import NearestNeighbors\n",
    "nearest_neighbors = NearestNeighbors(n_neighbors=5)\n",
    "nearest_neighbors.fit(X)\n",
    "distances, indices = nearest_neighbors.kneighbors(X)\n",
    "distances = np.sort(distances, axis=0)[:, 1]\n",
    "print(distances)\n",
    "plt.plot(distances)\n",
    "plt.show()\n",
    "#La valeur optimale devrait être la valeur à laquelle nous voyons une courbure maximale qui dans ce cas semble être proche de 0,5."
   ]
  },
  {
   "cell_type": "code",
   "execution_count": null,
   "id": "ea289577",
   "metadata": {},
   "outputs": [],
   "source": []
  }
 ],
 "metadata": {
  "kernelspec": {
   "display_name": "Python 3 (ipykernel)",
   "language": "python",
   "name": "python3"
  },
  "language_info": {
   "codemirror_mode": {
    "name": "ipython",
    "version": 3
   },
   "file_extension": ".py",
   "mimetype": "text/x-python",
   "name": "python",
   "nbconvert_exporter": "python",
   "pygments_lexer": "ipython3",
   "version": "3.9.7"
  }
 },
 "nbformat": 4,
 "nbformat_minor": 5
}
